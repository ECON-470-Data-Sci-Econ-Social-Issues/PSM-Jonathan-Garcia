{
  "nbformat": 4,
  "nbformat_minor": 0,
  "metadata": {
    "colab": {
      "provenance": []
    },
    "kernelspec": {
      "name": "python3",
      "display_name": "Python 3"
    },
    "language_info": {
      "name": "python"
    }
  },
  "cells": [
    {
      "cell_type": "code",
      "execution_count": 1,
      "metadata": {
        "colab": {
          "base_uri": "https://localhost:8080/",
          "height": 144
        },
        "id": "gAI5QkafFaqo",
        "outputId": "ccf05078-bf3b-4f00-a9bc-f54119c9098c"
      },
      "outputs": [
        {
          "output_type": "error",
          "ename": "SyntaxError",
          "evalue": "unterminated string literal (detected at line 17) (<ipython-input-1-cd62b4f56639>, line 17)",
          "traceback": [
            "\u001b[0;36m  File \u001b[0;32m\"<ipython-input-1-cd62b4f56639>\"\u001b[0;36m, line \u001b[0;32m17\u001b[0m\n\u001b[0;31m    s_N             = ((index.^(-1)*distribution.w/distribution.Y * (p.mean_lambda+1) * p.psi * p.Phi(1) *p.theta ).^(1/(1+p.psi)))'        ;\u001b[0m\n\u001b[0m                                                                                                                                   ^\u001b[0m\n\u001b[0;31mSyntaxError\u001b[0m\u001b[0;31m:\u001b[0m unterminated string literal (detected at line 17)\n"
          ]
        }
      ],
      "source": [
        "function [distribution] = file10j_revision_firmintangibles_distribution(storage,solution,p)\n",
        "\n",
        "% macro variables\n",
        "distribution.Y          = solution(7)                                   ;\n",
        "distribution.w          = solution(8)                                   ;\n",
        "distribution.s          = solution(4)                                   ;\n",
        "distribution.g          = solution(5)                                   ;\n",
        "\n",
        "%firm size shares\n",
        "distribution.K      = solution(14:13+storage.maxN);\n",
        "\n",
        "%creative destruction rates\n",
        "distribution.delta  = solution(14+storage.maxN:13+storage.maxN*2);\n",
        "\n",
        "% profitability\n",
        "index = 1:storage.maxN+1 ;\n",
        "s_N             = ((index.^(-1)*distribution.w/distribution.Y * (p.mean_lambda+1) * p.psi * p.Phi(1) *p.theta ).^(1/(1+p.psi)))'        ;\n",
        "s_N(s_N>1)      = 1                                                                                                                     ;\n",
        "lb              = 10^(-10)                                                                                                              ;\n",
        "opts1           =  optimset('display','off','UseParallel',true)                                                                         ;\n",
        "func            = @(y)file10e_revision_firmintangibles_chokeprices(y, distribution.w, distribution.Y, s_N, p, storage)                  ;\n",
        "chokeprices_N   = lsqnonlin(func,ones(storage.maxN+1,1)*0.5,ones(storage.maxN+1,1)*lb,[],opts1)                                         ;\n",
        "omega =( index'.*(1-s_N.*(p.mean_lambda+1).^(-1)).*distribution.Y - p.Phi(1) * p.theta * distribution.w .*(s_N.^(-p.psi)-1) )./index'./(p.rho+[distribution.delta;distribution.delta(end)])                               ;\n",
        "\n",
        "% probability that a firm's innovation is succesful\n",
        "alpha                                       = (p.mean_lambda+1)/p.mean_lambda;\n",
        "probability_matrix                          = (chokeprices_N./chokeprices_N').^(-alpha) ;\n",
        "probability_matrix(probability_matrix>1)    = 1;\n",
        "\n",
        "% probability of success when a firm innovates (average of probmatrix, weighted by incumbent distribution)\n",
        "successprob_vector = probability_matrix(1:end-1,1:end-1)*(distribution.K/sum(distribution.K)) ;\n",
        "\n",
        "% innovation rates and value function\n",
        "[~,xn] = file10g_revision_firmintangibles_AKvalfun(p,storage,distribution.delta,omega,successprob_vector,distribution.w);\n",
        "distribution.xvector = xn(1:storage.maxN).*index(1:storage.maxN)' ;\n",
        "xvector              = distribution.xvector ;\n",
        "\n",
        "% firm-size distribution\n",
        "M_n     =  zeros(storage.maxN,1);\n",
        "M_n(1)  =  distribution.s*successprob_vector(1)                                                                                             /(distribution.delta(1)*1);\n",
        "M_n(2)  =(-distribution.s*successprob_vector(1)                  +xvector(1)*M_n(1) *successprob_vector(2)+distribution.delta(1)*M_n(1)*1)  /(distribution.delta(2)*2);\n",
        "M_n(3)  =(-xvector(1)*M_n(1)*successprob_vector(2)  +xvector(2)*M_n(2) *successprob_vector(3)+distribution.delta(2)*M_n(2)*2)               /(distribution.delta(3)*3);\n",
        "for N = 3:storage.maxN-1\n",
        "    M_n(N+1) =   (-xvector(N-1)*M_n(N-1)*successprob_vector(N) +xvector(N)*M_n(N)*successprob_vector(N+1) + M_n(N)*distribution.delta(N)*N  )/(distribution.delta(N+1)*(N+1));\n",
        "end\n",
        "distribution.M = M_n./sum(M_n);\n",
        "distribution.M_n = M_n;\n",
        "\n",
        "% firm-size shares\n",
        "K_intermediate = M_n.*index(1:storage.maxN)' ./(sum(M_n.*index(1:storage.maxN)'));\n",
        "distribution.K= K_intermediate;\n",
        "if sum(distribution.K) > 1.03\n",
        "    warning('Share of firm-types across product lines exceeds 1')\n",
        "    disp(sum(distribution.K))\n",
        "end\n",
        "\n",
        "\n",
        "end\n",
        "\n",
        "\n",
        "\n",
        "\n",
        "\n",
        "\n",
        "\n",
        "\n",
        "\n",
        "\n",
        "\n",
        "\n",
        "\n",
        "\n",
        "\n",
        "\n",
        "\n",
        "\n",
        "\n",
        "\n",
        "\n",
        "\n",
        "\n"
      ]
    }
  ]
}